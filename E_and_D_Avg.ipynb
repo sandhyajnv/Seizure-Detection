{
  "nbformat": 4,
  "nbformat_minor": 0,
  "metadata": {
    "colab": {
      "provenance": [],
      "authorship_tag": "ABX9TyOV+eo1s491pWJfwbtsEE0r",
      "include_colab_link": true
    },
    "kernelspec": {
      "name": "python3",
      "display_name": "Python 3"
    },
    "language_info": {
      "name": "python"
    }
  },
  "cells": [
    {
      "cell_type": "markdown",
      "metadata": {
        "id": "view-in-github",
        "colab_type": "text"
      },
      "source": [
        "<a href=\"https://colab.research.google.com/github/sandhyajnv/Seizure-Detection/blob/main/E_and_D_Avg.ipynb\" target=\"_parent\"><img src=\"https://colab.research.google.com/assets/colab-badge.svg\" alt=\"Open In Colab\"/></a>"
      ]
    },
    {
      "cell_type": "code",
      "execution_count": null,
      "metadata": {
        "colab": {
          "base_uri": "https://localhost:8080/"
        },
        "id": "K3Z5YR1c5RHL",
        "outputId": "5abd6d03-bbec-45ac-c6fc-9c5f2137446c"
      },
      "outputs": [
        {
          "output_type": "stream",
          "name": "stdout",
          "text": [
            "Mounted at /content/drive\n"
          ]
        }
      ],
      "source": [
        "from google.colab import drive\n",
        "drive.mount(\"/content/drive\")"
      ]
    },
    {
      "cell_type": "code",
      "source": [
        "import matplotlib.pyplot as plt\n",
        "import numpy as np"
      ],
      "metadata": {
        "id": "h-xvoSFf7MEF"
      },
      "execution_count": null,
      "outputs": []
    },
    {
      "cell_type": "code",
      "source": [
        "!pip install mne"
      ],
      "metadata": {
        "colab": {
          "base_uri": "https://localhost:8080/"
        },
        "id": "WT0qyXP25ikn",
        "outputId": "8d4fc1cb-175d-4eef-d73d-3fe1d6694c3d"
      },
      "execution_count": null,
      "outputs": [
        {
          "output_type": "stream",
          "name": "stdout",
          "text": [
            "Looking in indexes: https://pypi.org/simple, https://us-python.pkg.dev/colab-wheels/public/simple/\n",
            "Collecting mne\n",
            "  Downloading mne-1.4.0-py3-none-any.whl (7.7 MB)\n",
            "\u001b[2K     \u001b[90m━━━━━━━━━━━━━━━━━━━━━━━━━━━━━━━━━━━━━━━━\u001b[0m \u001b[32m7.7/7.7 MB\u001b[0m \u001b[31m59.7 MB/s\u001b[0m eta \u001b[36m0:00:00\u001b[0m\n",
            "\u001b[?25hRequirement already satisfied: numpy>=1.15.4 in /usr/local/lib/python3.10/dist-packages (from mne) (1.22.4)\n",
            "Requirement already satisfied: scipy>=1.6.3 in /usr/local/lib/python3.10/dist-packages (from mne) (1.10.1)\n",
            "Requirement already satisfied: matplotlib in /usr/local/lib/python3.10/dist-packages (from mne) (3.7.1)\n",
            "Requirement already satisfied: tqdm in /usr/local/lib/python3.10/dist-packages (from mne) (4.65.0)\n",
            "Requirement already satisfied: pooch>=1.5 in /usr/local/lib/python3.10/dist-packages (from mne) (1.6.0)\n",
            "Requirement already satisfied: decorator in /usr/local/lib/python3.10/dist-packages (from mne) (4.4.2)\n",
            "Requirement already satisfied: packaging in /usr/local/lib/python3.10/dist-packages (from mne) (23.1)\n",
            "Requirement already satisfied: jinja2 in /usr/local/lib/python3.10/dist-packages (from mne) (3.1.2)\n",
            "Requirement already satisfied: appdirs>=1.3.0 in /usr/local/lib/python3.10/dist-packages (from pooch>=1.5->mne) (1.4.4)\n",
            "Requirement already satisfied: requests>=2.19.0 in /usr/local/lib/python3.10/dist-packages (from pooch>=1.5->mne) (2.27.1)\n",
            "Requirement already satisfied: MarkupSafe>=2.0 in /usr/local/lib/python3.10/dist-packages (from jinja2->mne) (2.1.2)\n",
            "Requirement already satisfied: contourpy>=1.0.1 in /usr/local/lib/python3.10/dist-packages (from matplotlib->mne) (1.0.7)\n",
            "Requirement already satisfied: cycler>=0.10 in /usr/local/lib/python3.10/dist-packages (from matplotlib->mne) (0.11.0)\n",
            "Requirement already satisfied: fonttools>=4.22.0 in /usr/local/lib/python3.10/dist-packages (from matplotlib->mne) (4.39.3)\n",
            "Requirement already satisfied: kiwisolver>=1.0.1 in /usr/local/lib/python3.10/dist-packages (from matplotlib->mne) (1.4.4)\n",
            "Requirement already satisfied: pillow>=6.2.0 in /usr/local/lib/python3.10/dist-packages (from matplotlib->mne) (8.4.0)\n",
            "Requirement already satisfied: pyparsing>=2.3.1 in /usr/local/lib/python3.10/dist-packages (from matplotlib->mne) (3.0.9)\n",
            "Requirement already satisfied: python-dateutil>=2.7 in /usr/local/lib/python3.10/dist-packages (from matplotlib->mne) (2.8.2)\n",
            "Requirement already satisfied: six>=1.5 in /usr/local/lib/python3.10/dist-packages (from python-dateutil>=2.7->matplotlib->mne) (1.16.0)\n",
            "Requirement already satisfied: urllib3<1.27,>=1.21.1 in /usr/local/lib/python3.10/dist-packages (from requests>=2.19.0->pooch>=1.5->mne) (1.26.15)\n",
            "Requirement already satisfied: certifi>=2017.4.17 in /usr/local/lib/python3.10/dist-packages (from requests>=2.19.0->pooch>=1.5->mne) (2022.12.7)\n",
            "Requirement already satisfied: charset-normalizer~=2.0.0 in /usr/local/lib/python3.10/dist-packages (from requests>=2.19.0->pooch>=1.5->mne) (2.0.12)\n",
            "Requirement already satisfied: idna<4,>=2.5 in /usr/local/lib/python3.10/dist-packages (from requests>=2.19.0->pooch>=1.5->mne) (3.4)\n",
            "Installing collected packages: mne\n",
            "Successfully installed mne-1.4.0\n"
          ]
        }
      ]
    },
    {
      "cell_type": "code",
      "source": [
        "def change_referenceFT9(a):\n",
        "  arr=a.copy()\n",
        "  for i in range(a.shape[0]):\n",
        "    if i==0:\n",
        "      arr[0,:]=a[0,:]+a[1,:]+a[19,:]\n",
        "    if i==1:\n",
        "      arr[1:]=a[1,:]+a[19,:]\n",
        "    if i==2:\n",
        "      arr[2,:]=a[19,:]\n",
        "    if i==3:\n",
        "      arr[3,:]=a[18,:]+a[19,:]\n",
        "    if i==4:\n",
        "      arr[4,:]=a[0,:]+a[1,:]+a[19,:]\n",
        "    if i==5:\n",
        "      arr[5,:]=a[5,:]+a[7,:]-a[3,:]+a[18,:]+a[19,:]+a[6,:]\n",
        "    if i==6:\n",
        "      arr[6,:]=a[7,:]-a[3,:]+a[18,:]+a[19,:]+a[6,:]\n",
        "    if i==7:\n",
        "      arr[7,:]=a[7,:]-a[3,:]+a[18,:]+a[19,:]\n",
        "    if i==8:\n",
        "      arr[8,:]=a[12,:]+a[13,:]-a[21,:]-a[20,:]\n",
        "    if i==9:\n",
        "      arr[9,:]=a[9,:]+a[10,:]+a[11,:]-a[15,:]-a[22,:]-a[21,:]-a[20,:]\n",
        "    if i==10:\n",
        "      arr[10,:]=a[10,:]+a[11,:]-a[15,:]-a[22,:]-a[21,:]-a[20,:]\n",
        "    if i==11:\n",
        "      arr[11,:]=a[11,:]-a[15,:]-a[22,:]-a[21,:]-a[20,:]\n",
        "    if i==12:\n",
        "      arr[12,:]=a[12,:]+a[13,:]-a[21,:]-a[20,:]\n",
        "    if i==13:\n",
        "      arr[13,:]=a[13,:]-a[21,:]-a[20,:]\n",
        "    if i==14:\n",
        "      arr[14,:]=-a[21,:]-a[20,:]\n",
        "    if i==15:\n",
        "      arr[15,:]=-a[21,:]-a[20,:]-a[22,:]\n",
        "    if i==20:\n",
        "      arr[20,:]=a[20,:]-a[20,:]\n",
        "    if i==21:\n",
        "      arr[21,:]=-a[20,:]\n",
        "    if i==22:\n",
        "      arr[22,:]=-a[21,:]-a[20,:]\n",
        "  return(arr)\n",
        "\n",
        "\n",
        "\n",
        "\n",
        "\n",
        "\n",
        "\n"
      ],
      "metadata": {
        "id": "-F27VWsPFpgk"
      },
      "execution_count": null,
      "outputs": []
    },
    {
      "cell_type": "code",
      "source": [
        "def change_referenceAvg(a):\n",
        "  arr=a.copy()\n",
        "  k=np.sum(arr,axis=0)/arr.shape[0]\n",
        "  for i in range(arr.shape[0]):\n",
        "    arr[i,:]=a[i,:]-k\n",
        "  return(arr)"
      ],
      "metadata": {
        "id": "i2kKfLmH7Vfx"
      },
      "execution_count": null,
      "outputs": []
    },
    {
      "cell_type": "code",
      "source": [
        "import os\n",
        "import mne\n",
        "file_name = os.listdir(\"/content/drive/MyDrive/estimation and detection data/chb01\")\n",
        "print(file_name)"
      ],
      "metadata": {
        "colab": {
          "base_uri": "https://localhost:8080/"
        },
        "id": "72qctOmRTcR1",
        "outputId": "289a5239-b29e-449d-9fb2-60c0ef712533"
      },
      "execution_count": null,
      "outputs": [
        {
          "output_type": "stream",
          "name": "stdout",
          "text": [
            "['chb01-summary.txt', 'chb01_03.edf', 'chb01_26.edf', 'chb01_04.edf', 'chb01_15.edf', 'chb01_16.edf', 'chb01_18.edf', 'chb01_21.edf']\n"
          ]
        }
      ]
    },
    {
      "cell_type": "code",
      "source": [
        "seq=[]\n",
        "for con in file_name[1:]:\n",
        "  x=int(con.split(\".\")[:-1][0].split(\"_\")[1])\n",
        "  seq.append(x)"
      ],
      "metadata": {
        "id": "1B4RX4GiV3Zu"
      },
      "execution_count": null,
      "outputs": []
    },
    {
      "cell_type": "code",
      "source": [
        "print(seq)"
      ],
      "metadata": {
        "colab": {
          "base_uri": "https://localhost:8080/"
        },
        "id": "CvcrmX7GXGsU",
        "outputId": "27bc24dd-dbaf-4532-ed36-6e258145bffc"
      },
      "execution_count": null,
      "outputs": [
        {
          "output_type": "stream",
          "name": "stdout",
          "text": [
            "[3, 26, 4, 15, 16, 18, 21]\n"
          ]
        }
      ]
    },
    {
      "cell_type": "code",
      "source": [
        "CH01_data_list=[]\n",
        "CH01_instances=[]\n",
        "for i in file_name[1:]:\n",
        "  file = r\"/content/drive/MyDrive/estimation and detection data/chb01/{}\".format(i)\n",
        "  data = mne.io.read_raw_edf(file)\n",
        "  CH01_instances.append(i)\n",
        "  raw_data = data.get_data()\n",
        "  #changed_ref_data=change_referenceFT9(raw_data)\n",
        "  CH01_data_list.append(data)"
      ],
      "metadata": {
        "colab": {
          "base_uri": "https://localhost:8080/"
        },
        "id": "PdfpQgqTSP7Z",
        "outputId": "9a2c94a4-3fc3-4569-dc29-06192fccb666"
      },
      "execution_count": null,
      "outputs": [
        {
          "output_type": "stream",
          "name": "stdout",
          "text": [
            "Extracting EDF parameters from /content/drive/MyDrive/estimation and detection data/chb01/chb01_03.edf...\n",
            "EDF file detected\n",
            "Setting channel info structure...\n",
            "Creating raw.info structure...\n"
          ]
        },
        {
          "output_type": "stream",
          "name": "stderr",
          "text": [
            "<ipython-input-9-315b885083ae>:5: RuntimeWarning: Channel names are not unique, found duplicates for: {'T8-P8'}. Applying running numbers for duplicates.\n",
            "  data = mne.io.read_raw_edf(file)\n"
          ]
        },
        {
          "output_type": "stream",
          "name": "stdout",
          "text": [
            "Extracting EDF parameters from /content/drive/MyDrive/estimation and detection data/chb01/chb01_26.edf...\n",
            "EDF file detected\n",
            "Setting channel info structure...\n",
            "Creating raw.info structure...\n"
          ]
        },
        {
          "output_type": "stream",
          "name": "stderr",
          "text": [
            "<ipython-input-9-315b885083ae>:5: RuntimeWarning: Channel names are not unique, found duplicates for: {'T8-P8'}. Applying running numbers for duplicates.\n",
            "  data = mne.io.read_raw_edf(file)\n"
          ]
        },
        {
          "output_type": "stream",
          "name": "stdout",
          "text": [
            "Extracting EDF parameters from /content/drive/MyDrive/estimation and detection data/chb01/chb01_04.edf...\n",
            "EDF file detected\n",
            "Setting channel info structure...\n",
            "Creating raw.info structure...\n"
          ]
        },
        {
          "output_type": "stream",
          "name": "stderr",
          "text": [
            "<ipython-input-9-315b885083ae>:5: RuntimeWarning: Channel names are not unique, found duplicates for: {'T8-P8'}. Applying running numbers for duplicates.\n",
            "  data = mne.io.read_raw_edf(file)\n"
          ]
        },
        {
          "output_type": "stream",
          "name": "stdout",
          "text": [
            "Extracting EDF parameters from /content/drive/MyDrive/estimation and detection data/chb01/chb01_15.edf...\n",
            "EDF file detected\n",
            "Setting channel info structure...\n",
            "Creating raw.info structure...\n"
          ]
        },
        {
          "output_type": "stream",
          "name": "stderr",
          "text": [
            "<ipython-input-9-315b885083ae>:5: RuntimeWarning: Channel names are not unique, found duplicates for: {'T8-P8'}. Applying running numbers for duplicates.\n",
            "  data = mne.io.read_raw_edf(file)\n"
          ]
        },
        {
          "output_type": "stream",
          "name": "stdout",
          "text": [
            "Extracting EDF parameters from /content/drive/MyDrive/estimation and detection data/chb01/chb01_16.edf...\n",
            "EDF file detected\n",
            "Setting channel info structure...\n",
            "Creating raw.info structure...\n"
          ]
        },
        {
          "output_type": "stream",
          "name": "stderr",
          "text": [
            "<ipython-input-9-315b885083ae>:5: RuntimeWarning: Channel names are not unique, found duplicates for: {'T8-P8'}. Applying running numbers for duplicates.\n",
            "  data = mne.io.read_raw_edf(file)\n"
          ]
        },
        {
          "output_type": "stream",
          "name": "stdout",
          "text": [
            "Extracting EDF parameters from /content/drive/MyDrive/estimation and detection data/chb01/chb01_18.edf...\n",
            "EDF file detected\n",
            "Setting channel info structure...\n",
            "Creating raw.info structure...\n"
          ]
        },
        {
          "output_type": "stream",
          "name": "stderr",
          "text": [
            "<ipython-input-9-315b885083ae>:5: RuntimeWarning: Channel names are not unique, found duplicates for: {'T8-P8'}. Applying running numbers for duplicates.\n",
            "  data = mne.io.read_raw_edf(file)\n"
          ]
        },
        {
          "output_type": "stream",
          "name": "stdout",
          "text": [
            "Extracting EDF parameters from /content/drive/MyDrive/estimation and detection data/chb01/chb01_21.edf...\n",
            "EDF file detected\n",
            "Setting channel info structure...\n",
            "Creating raw.info structure...\n"
          ]
        },
        {
          "output_type": "stream",
          "name": "stderr",
          "text": [
            "<ipython-input-9-315b885083ae>:5: RuntimeWarning: Channel names are not unique, found duplicates for: {'T8-P8'}. Applying running numbers for duplicates.\n",
            "  data = mne.io.read_raw_edf(file)\n"
          ]
        }
      ]
    },
    {
      "cell_type": "code",
      "source": [
        "print(CH01_data_list[0].info)\n",
        "print(CH01_data_list[0].ch_names)\n",
        "datach1=(CH01_data_list[0].get_data('FP1-F7'))\n",
        "print(datach1.shape)\n"
      ],
      "metadata": {
        "colab": {
          "base_uri": "https://localhost:8080/"
        },
        "id": "cIN--MJ5NEFe",
        "outputId": "1a8cce85-8ffc-47ff-9f6e-f378770cfd14"
      },
      "execution_count": null,
      "outputs": [
        {
          "output_type": "stream",
          "name": "stdout",
          "text": [
            "<Info | 7 non-empty values\n",
            " bads: []\n",
            " ch_names: FP1-F7, F7-T7, T7-P7, P7-O1, FP1-F3, F3-C3, C3-P3, P3-O1, ...\n",
            " chs: 23 EEG\n",
            " custom_ref_applied: False\n",
            " highpass: 0.0 Hz\n",
            " lowpass: 128.0 Hz\n",
            " meas_date: 2076-11-06 13:43:04 UTC\n",
            " nchan: 23\n",
            " projs: []\n",
            " sfreq: 256.0 Hz\n",
            ">\n",
            "['FP1-F7', 'F7-T7', 'T7-P7', 'P7-O1', 'FP1-F3', 'F3-C3', 'C3-P3', 'P3-O1', 'FP2-F4', 'F4-C4', 'C4-P4', 'P4-O2', 'FP2-F8', 'F8-T8', 'T8-P8-0', 'P8-O2', 'FZ-CZ', 'CZ-PZ', 'P7-T7', 'T7-FT9', 'FT9-FT10', 'FT10-T8', 'T8-P8-1']\n",
            "(1, 921600)\n"
          ]
        }
      ]
    },
    {
      "cell_type": "code",
      "source": [
        "Seizure=[]\n",
        "# CH01_data_list=[]\n",
        "# CH01_instances=[]\n",
        "start03, stop03 = CH01_data_list[0].time_as_index([2996, 3036])\n",
        "data03, time03 = CH01_data_list[0][:,start03:stop03]\n",
        "Seizure.append(data03)\n",
        "\n",
        "\n"
      ],
      "metadata": {
        "id": "9yfnm6cMTujK"
      },
      "execution_count": null,
      "outputs": []
    },
    {
      "cell_type": "code",
      "source": [
        "print(data03.shape)"
      ],
      "metadata": {
        "colab": {
          "base_uri": "https://localhost:8080/"
        },
        "id": "OpLyMppRhcRJ",
        "outputId": "a12c8c22-1a73-4e45-9c3e-8a1b4094cf40"
      },
      "execution_count": null,
      "outputs": [
        {
          "output_type": "stream",
          "name": "stdout",
          "text": [
            "(23, 10240)\n"
          ]
        }
      ]
    },
    {
      "cell_type": "code",
      "source": [
        "\n",
        "start04, stop04 = CH01_data_list[2].time_as_index([1467, 1494])\n",
        "data04, time04 = CH01_data_list[2][:,start04:stop04]\n",
        "Seizure.append(data04)"
      ],
      "metadata": {
        "id": "fFPp_OP2VJYQ"
      },
      "execution_count": null,
      "outputs": []
    },
    {
      "cell_type": "code",
      "source": [
        "start15, stop15 = CH01_data_list[3].time_as_index([1732, 1772])\n",
        "data15, time15 = CH01_data_list[3][:,start15:stop15]\n",
        "Seizure.append(data15)"
      ],
      "metadata": {
        "id": "VNq7vs0EYERA"
      },
      "execution_count": null,
      "outputs": []
    },
    {
      "cell_type": "code",
      "source": [
        "start16, stop16 = CH01_data_list[4].time_as_index([1015, 1066 ])\n",
        "data16, time16 = CH01_data_list[4][:,start16:stop16]\n",
        "Seizure.append(data16)"
      ],
      "metadata": {
        "id": "SUCugFfHYeU5"
      },
      "execution_count": null,
      "outputs": []
    },
    {
      "cell_type": "code",
      "source": [
        "start18, stop18 = CH01_data_list[5].time_as_index([1720, 1810 ])\n",
        "data18, time18 = CH01_data_list[5][:,start18:stop18]\n",
        "Seizure.append(data18)"
      ],
      "metadata": {
        "id": "AfCp1DgFYwgG"
      },
      "execution_count": null,
      "outputs": []
    },
    {
      "cell_type": "code",
      "source": [
        "start21, stop21 = CH01_data_list[6].time_as_index([327, 420 ])\n",
        "data21, time21 = CH01_data_list[6][:,start21:stop21]\n",
        "Seizure.append(data21)"
      ],
      "metadata": {
        "id": "KqvllftcZQ4o"
      },
      "execution_count": null,
      "outputs": []
    },
    {
      "cell_type": "code",
      "source": [
        "start26, stop26 = CH01_data_list[1].time_as_index([1862, 1963 ])\n",
        "data26, time26 = CH01_data_list[1][:,start26:stop26]\n",
        "Seizure.append(data26)"
      ],
      "metadata": {
        "id": "8SNIW59iZyC5"
      },
      "execution_count": null,
      "outputs": []
    },
    {
      "cell_type": "code",
      "source": [
        "dataP1I1=Seizure[0]\n",
        "print(dataP1I1.shape)"
      ],
      "metadata": {
        "colab": {
          "base_uri": "https://localhost:8080/"
        },
        "id": "OTg38_qzV4eK",
        "outputId": "7bb98448-5f88-4d1c-e39c-c6753449776c"
      },
      "execution_count": null,
      "outputs": [
        {
          "output_type": "stream",
          "name": "stdout",
          "text": [
            "(23, 10240)\n"
          ]
        }
      ]
    },
    {
      "cell_type": "code",
      "source": [
        "file_name02 = os.listdir(\"/content/drive/MyDrive/estimation and detection data/chb02\")\n",
        "print(file_name02)"
      ],
      "metadata": {
        "colab": {
          "base_uri": "https://localhost:8080/"
        },
        "id": "8QO6lxvma6dJ",
        "outputId": "d147d497-03a2-41d4-b647-f8699a1bf300"
      },
      "execution_count": null,
      "outputs": [
        {
          "output_type": "stream",
          "name": "stdout",
          "text": [
            "['chb02-summary.txt', 'chb02_16.edf', 'chb02_19.edf', 'chb02_16+.edf']\n"
          ]
        }
      ]
    },
    {
      "cell_type": "code",
      "source": [
        "CH02_data_list=[]\n",
        "CH02_instances=[]\n",
        "for i in file_name02[1:]:\n",
        "  file = r\"/content/drive/MyDrive/estimation and detection data/chb02/{}\".format(i)\n",
        "  data = mne.io.read_raw_edf(file)\n",
        "  CH02_instances.append(i)\n",
        "  #raw_data = data.get_data()\n",
        "  #changed_ref_data=change_referenceFT9(raw_data)\n",
        "  CH02_data_list.append(data)"
      ],
      "metadata": {
        "colab": {
          "base_uri": "https://localhost:8080/"
        },
        "id": "pmMpgyqeadkU",
        "outputId": "c8832195-3bc4-4cb1-f8ea-5750c84c2171"
      },
      "execution_count": null,
      "outputs": [
        {
          "output_type": "stream",
          "name": "stdout",
          "text": [
            "Extracting EDF parameters from /content/drive/MyDrive/estimation and detection data/chb02/chb02_16.edf...\n",
            "EDF file detected\n",
            "Setting channel info structure...\n",
            "Creating raw.info structure...\n",
            "Extracting EDF parameters from /content/drive/MyDrive/estimation and detection data/chb02/chb02_19.edf...\n",
            "EDF file detected\n"
          ]
        },
        {
          "output_type": "stream",
          "name": "stderr",
          "text": [
            "<ipython-input-21-f6dc96cfeb1b>:5: RuntimeWarning: Channel names are not unique, found duplicates for: {'T8-P8'}. Applying running numbers for duplicates.\n",
            "  data = mne.io.read_raw_edf(file)\n"
          ]
        },
        {
          "output_type": "stream",
          "name": "stdout",
          "text": [
            "Setting channel info structure...\n",
            "Creating raw.info structure...\n",
            "Extracting EDF parameters from /content/drive/MyDrive/estimation and detection data/chb02/chb02_16+.edf...\n",
            "EDF file detected\n"
          ]
        },
        {
          "output_type": "stream",
          "name": "stderr",
          "text": [
            "<ipython-input-21-f6dc96cfeb1b>:5: RuntimeWarning: Channel names are not unique, found duplicates for: {'T8-P8'}. Applying running numbers for duplicates.\n",
            "  data = mne.io.read_raw_edf(file)\n"
          ]
        },
        {
          "output_type": "stream",
          "name": "stdout",
          "text": [
            "Setting channel info structure...\n",
            "Creating raw.info structure...\n"
          ]
        },
        {
          "output_type": "stream",
          "name": "stderr",
          "text": [
            "<ipython-input-21-f6dc96cfeb1b>:5: RuntimeWarning: Channel names are not unique, found duplicates for: {'T8-P8'}. Applying running numbers for duplicates.\n",
            "  data = mne.io.read_raw_edf(file)\n"
          ]
        }
      ]
    },
    {
      "cell_type": "code",
      "source": [
        "print(CH02_instances)"
      ],
      "metadata": {
        "colab": {
          "base_uri": "https://localhost:8080/"
        },
        "id": "IDiwU9wFbdjq",
        "outputId": "40679d33-70e1-4d5c-a8bf-9b0678b8d85a"
      },
      "execution_count": null,
      "outputs": [
        {
          "output_type": "stream",
          "name": "stdout",
          "text": [
            "['chb02_16.edf', 'chb02_19.edf', 'chb02_16+.edf']\n"
          ]
        }
      ]
    },
    {
      "cell_type": "code",
      "source": [
        "\n",
        "start16_02, stop16_02 = CH02_data_list[0].time_as_index([130, 212])\n",
        "data16_02, time16_02 = CH02_data_list[0][:,start16_02:stop16_02]\n",
        "Seizure.append(data16_02)"
      ],
      "metadata": {
        "id": "g0-79uewbTA9"
      },
      "execution_count": null,
      "outputs": []
    },
    {
      "cell_type": "code",
      "source": [
        "start19_02, stop19_02 = CH02_data_list[1].time_as_index([3369, 3378])\n",
        "data19_02, time19_02 = CH02_data_list[1][:,start19_02:stop19_02]\n",
        "Seizure.append(data19_02)"
      ],
      "metadata": {
        "id": "iPZlYiNNdHRK"
      },
      "execution_count": null,
      "outputs": []
    },
    {
      "cell_type": "code",
      "source": [
        "start17_02, stop17_02 = CH02_data_list[2].time_as_index([2972, 3053])\n",
        "data17_02, time17_02 = CH02_data_list[2][:,start17_02:stop17_02]\n",
        "Seizure.append(data17_02)"
      ],
      "metadata": {
        "id": "oRJMBtGDdVQX"
      },
      "execution_count": null,
      "outputs": []
    },
    {
      "cell_type": "code",
      "source": [
        "file_name06 = os.listdir(\"/content/drive/MyDrive/estimation and detection data/chb06\")\n",
        "print(file_name06)\n",
        "\n"
      ],
      "metadata": {
        "colab": {
          "base_uri": "https://localhost:8080/"
        },
        "id": "zN0uKIDaq2NX",
        "outputId": "97afb7b6-f879-4f5e-cb97-7853b58671a3"
      },
      "execution_count": null,
      "outputs": [
        {
          "output_type": "stream",
          "name": "stdout",
          "text": [
            "['chb06_01.edf', 'chb06-summary.txt', 'chb06_04.edf', 'chb06_09.edf', 'chb06_10.edf', 'chb06_13.edf', 'chb06_18.edf', 'chb06_24.edf']\n"
          ]
        }
      ]
    },
    {
      "cell_type": "code",
      "source": [
        "path06_01=\"/content/drive/MyDrive/estimation and detection data/chb06/\"+file_name06[0]\n",
        "data06_01=mne.io.read_raw_edf(path06_01)\n",
        "start, stop = data06_01.time_as_index([1724,1738])\n",
        "data, time = data06_01[:,start:stop]\n",
        "Seizure.append(data)\n",
        "\n",
        "# startNS, stopNS = data06_01.time_as_index([1724,1738])\n",
        "# dataNS, timeNS = data06_01[:,startNS:stopNS]\n",
        "# Non_Seizure.append(dataNS)\n",
        "\n",
        "start, stop = data06_01.time_as_index([7461,7476])\n",
        "data, time = data06_01[:,start:stop]\n",
        "Seizure.append(data)\n",
        "\n",
        "start, stop = data06_01.time_as_index([13525,13540 ])\n",
        "data, time = data06_01[:,start:stop]\n",
        "Seizure.append(data)\n"
      ],
      "metadata": {
        "colab": {
          "base_uri": "https://localhost:8080/"
        },
        "id": "LDUR8K73r4jP",
        "outputId": "99bd3087-3769-48f4-c8d7-eecaeba5a0e7"
      },
      "execution_count": null,
      "outputs": [
        {
          "output_type": "stream",
          "name": "stdout",
          "text": [
            "Extracting EDF parameters from /content/drive/MyDrive/estimation and detection data/chb06/chb06_01.edf...\n",
            "EDF file detected\n",
            "Setting channel info structure...\n",
            "Creating raw.info structure...\n"
          ]
        },
        {
          "output_type": "stream",
          "name": "stderr",
          "text": [
            "<ipython-input-27-b0e534b75800>:2: RuntimeWarning: Channel names are not unique, found duplicates for: {'T8-P8'}. Applying running numbers for duplicates.\n",
            "  data06_01=mne.io.read_raw_edf(path06_01)\n"
          ]
        }
      ]
    },
    {
      "cell_type": "code",
      "source": [
        "path06_04=\"/content/drive/MyDrive/estimation and detection data/chb06/\"+file_name06[2]\n",
        "data06_04=mne.io.read_raw_edf(path06_04)\n",
        "start, stop = data06_04.time_as_index([327,347])\n",
        "data, time = data06_04[:,start:stop]\n",
        "Seizure.append(data)\n",
        "\n",
        "start, stop = data06_04.time_as_index([6211,6231])\n",
        "data, time = data06_04[:,start:stop]\n",
        "Seizure.append(data)\n",
        "\n"
      ],
      "metadata": {
        "colab": {
          "base_uri": "https://localhost:8080/"
        },
        "id": "VnX2S6VCwvMh",
        "outputId": "67cdbb87-ed56-4dbe-c782-8995498704d9"
      },
      "execution_count": null,
      "outputs": [
        {
          "output_type": "stream",
          "name": "stdout",
          "text": [
            "Extracting EDF parameters from /content/drive/MyDrive/estimation and detection data/chb06/chb06_04.edf...\n",
            "EDF file detected\n",
            "Setting channel info structure...\n",
            "Creating raw.info structure...\n"
          ]
        },
        {
          "output_type": "stream",
          "name": "stderr",
          "text": [
            "<ipython-input-28-efd02353036e>:2: RuntimeWarning: Channel names are not unique, found duplicates for: {'T8-P8'}. Applying running numbers for duplicates.\n",
            "  data06_04=mne.io.read_raw_edf(path06_04)\n"
          ]
        }
      ]
    },
    {
      "cell_type": "code",
      "source": [
        "path06_09=\"/content/drive/MyDrive/estimation and detection data/chb06/\"+file_name06[3]\n",
        "data06_09=mne.io.read_raw_edf(path06_09)\n",
        "start, stop = data06_09.time_as_index([12500,12516])\n",
        "data, time = data06_09[:,start:stop]\n",
        "Seizure.append(data)"
      ],
      "metadata": {
        "colab": {
          "base_uri": "https://localhost:8080/"
        },
        "id": "Xw3q3VWdxTVp",
        "outputId": "67b5e32b-b7f7-49b8-ef5d-b4bff595e7b6"
      },
      "execution_count": null,
      "outputs": [
        {
          "output_type": "stream",
          "name": "stdout",
          "text": [
            "Extracting EDF parameters from /content/drive/MyDrive/estimation and detection data/chb06/chb06_09.edf...\n",
            "EDF file detected\n",
            "Setting channel info structure...\n",
            "Creating raw.info structure...\n"
          ]
        },
        {
          "output_type": "stream",
          "name": "stderr",
          "text": [
            "<ipython-input-29-581a78ed9b32>:2: RuntimeWarning: Channel names are not unique, found duplicates for: {'T8-P8'}. Applying running numbers for duplicates.\n",
            "  data06_09=mne.io.read_raw_edf(path06_09)\n"
          ]
        }
      ]
    },
    {
      "cell_type": "code",
      "source": [
        "path06_10=\"/content/drive/MyDrive/estimation and detection data/chb06/\"+file_name06[4]\n",
        "data06_10=mne.io.read_raw_edf(path06_10)\n",
        "start, stop = data06_10.time_as_index([10833,10845])\n",
        "data, time = data06_10[:,start:stop]\n",
        "Seizure.append(data)"
      ],
      "metadata": {
        "colab": {
          "base_uri": "https://localhost:8080/"
        },
        "id": "SFqve89vxgzQ",
        "outputId": "10fe3915-09a6-4c39-8e8d-ef7f49878782"
      },
      "execution_count": null,
      "outputs": [
        {
          "output_type": "stream",
          "name": "stdout",
          "text": [
            "Extracting EDF parameters from /content/drive/MyDrive/estimation and detection data/chb06/chb06_10.edf...\n",
            "EDF file detected\n",
            "Setting channel info structure...\n",
            "Creating raw.info structure...\n"
          ]
        },
        {
          "output_type": "stream",
          "name": "stderr",
          "text": [
            "<ipython-input-30-1da48d99d7e1>:2: RuntimeWarning: Channel names are not unique, found duplicates for: {'T8-P8'}. Applying running numbers for duplicates.\n",
            "  data06_10=mne.io.read_raw_edf(path06_10)\n"
          ]
        }
      ]
    },
    {
      "cell_type": "code",
      "source": [
        "path06_13=\"/content/drive/MyDrive/estimation and detection data/chb06/\"+file_name06[5]\n",
        "data06_13=mne.io.read_raw_edf(path06_13)\n",
        "start, stop = data06_13.time_as_index([506,519])\n",
        "data, time = data06_13[:,start:stop]\n",
        "Seizure.append(data)"
      ],
      "metadata": {
        "colab": {
          "base_uri": "https://localhost:8080/"
        },
        "id": "-XRPfHKrx8x5",
        "outputId": "41f71331-c3b2-4e6f-8f50-33f5e79dfb34"
      },
      "execution_count": null,
      "outputs": [
        {
          "output_type": "stream",
          "name": "stdout",
          "text": [
            "Extracting EDF parameters from /content/drive/MyDrive/estimation and detection data/chb06/chb06_13.edf...\n",
            "EDF file detected\n",
            "Setting channel info structure...\n",
            "Creating raw.info structure...\n"
          ]
        },
        {
          "output_type": "stream",
          "name": "stderr",
          "text": [
            "<ipython-input-31-fcb21619133c>:2: RuntimeWarning: Channel names are not unique, found duplicates for: {'T8-P8'}. Applying running numbers for duplicates.\n",
            "  data06_13=mne.io.read_raw_edf(path06_13)\n"
          ]
        }
      ]
    },
    {
      "cell_type": "code",
      "source": [
        "path06_18=\"/content/drive/MyDrive/estimation and detection data/chb06/\"+file_name06[6]\n",
        "data06_18=mne.io.read_raw_edf(path06_18)\n",
        "start, stop = data06_18.time_as_index([7799,7811])\n",
        "data, time = data06_18[:,start:stop]\n",
        "Seizure.append(data)"
      ],
      "metadata": {
        "colab": {
          "base_uri": "https://localhost:8080/"
        },
        "id": "2KHJWDWbyWco",
        "outputId": "71dbc31b-fa03-4ea5-b4bf-be15142fe29d"
      },
      "execution_count": null,
      "outputs": [
        {
          "output_type": "stream",
          "name": "stdout",
          "text": [
            "Extracting EDF parameters from /content/drive/MyDrive/estimation and detection data/chb06/chb06_18.edf...\n",
            "EDF file detected\n",
            "Setting channel info structure...\n",
            "Creating raw.info structure...\n"
          ]
        },
        {
          "output_type": "stream",
          "name": "stderr",
          "text": [
            "<ipython-input-32-f23f36791fc6>:2: RuntimeWarning: Channel names are not unique, found duplicates for: {'T8-P8'}. Applying running numbers for duplicates.\n",
            "  data06_18=mne.io.read_raw_edf(path06_18)\n"
          ]
        }
      ]
    },
    {
      "cell_type": "code",
      "source": [
        "path06_24=\"/content/drive/MyDrive/estimation and detection data/chb06/\"+file_name06[7]\n",
        "data06_24=mne.io.read_raw_edf(path06_24)\n",
        "start, stop = data06_24.time_as_index([9387,9403])\n",
        "data, time = data06_24[:,start:stop]\n",
        "Seizure.append(data)"
      ],
      "metadata": {
        "colab": {
          "base_uri": "https://localhost:8080/"
        },
        "id": "vsd99dgoy4tB",
        "outputId": "3654cd84-ff58-4c63-a60a-78abbc11c0a6"
      },
      "execution_count": null,
      "outputs": [
        {
          "output_type": "stream",
          "name": "stdout",
          "text": [
            "Extracting EDF parameters from /content/drive/MyDrive/estimation and detection data/chb06/chb06_24.edf...\n",
            "EDF file detected\n",
            "Setting channel info structure...\n",
            "Creating raw.info structure...\n"
          ]
        },
        {
          "output_type": "stream",
          "name": "stderr",
          "text": [
            "<ipython-input-33-11ad3f9c37f6>:2: RuntimeWarning: Channel names are not unique, found duplicates for: {'T8-P8'}. Applying running numbers for duplicates.\n",
            "  data06_24=mne.io.read_raw_edf(path06_24)\n"
          ]
        }
      ]
    },
    {
      "cell_type": "code",
      "source": [
        "print(len(Seizure))"
      ],
      "metadata": {
        "colab": {
          "base_uri": "https://localhost:8080/"
        },
        "id": "QE0ngw2LzN8x",
        "outputId": "95002497-b51f-4b23-bbd5-0e4e49db57a1"
      },
      "execution_count": null,
      "outputs": [
        {
          "output_type": "stream",
          "name": "stdout",
          "text": [
            "20\n"
          ]
        }
      ]
    },
    {
      "cell_type": "code",
      "source": [
        "sum=0\n",
        "for i in range(len(Seizure)):\n",
        "  sum=sum+Seizure[i].shape[1]\n",
        "print(sum)"
      ],
      "metadata": {
        "colab": {
          "base_uri": "https://localhost:8080/"
        },
        "id": "AK3YUxZei-B5",
        "outputId": "d2414c5c-1e13-42cb-aceb-d1bdeac3e06f"
      },
      "execution_count": null,
      "outputs": [
        {
          "output_type": "stream",
          "name": "stdout",
          "text": [
            "196352\n"
          ]
        }
      ]
    },
    {
      "cell_type": "code",
      "source": [
        "Non_Seizure=[]\n",
        "# CH01_data_list=[]\n",
        "# CH01_instances=[]\n",
        "\n",
        "start03_NS, stop03_NS = CH01_data_list[0].time_as_index([2954, 2994])\n",
        "data03_NS, time03_NS = CH01_data_list[0][:,start03_NS:stop03_NS]\n",
        "Non_Seizure.append(data03_NS)\n",
        "\n",
        "start04_NS, stop04_NS = CH01_data_list[2].time_as_index([1434, 1464])\n",
        "data04_NS, time04_NS = CH01_data_list[2][:,start04_NS:stop04_NS]\n",
        "Non_Seizure.append(data04_NS)\n",
        "\n",
        "start15_NS, stop15_NS = CH01_data_list[3].time_as_index([1700,1730])\n",
        "data15_NS, time15_NS = CH01_data_list[3][:,start15_NS:stop15_NS]\n",
        "Non_Seizure.append(data15_NS)\n",
        "\n",
        "start16_NS, stop16_NS = CH01_data_list[4].time_as_index([970, 1000 ])\n",
        "data16_NS, time16_NS = CH01_data_list[4][:,start16_NS:stop16_NS]\n",
        "Non_Seizure.append(data16_NS)\n",
        "\n",
        "start18_NS, stop18_NS = CH01_data_list[5].time_as_index([1600, 1700])\n",
        "data18_NS, time18_NS = CH01_data_list[5][:,start18_NS:stop18_NS]\n",
        "Non_Seizure.append(data18_NS)\n",
        "\n",
        "start21_NS, stop21_NS = CH01_data_list[6].time_as_index([290, 320 ])\n",
        "data21_NS, time21_NS = CH01_data_list[6][:,start21_NS:stop21_NS]\n",
        "Non_Seizure.append(data21_NS)\n",
        "\n",
        "start26, stop26 = CH01_data_list[1].time_as_index([1820, 1850 ])\n",
        "data26, time26 = CH01_data_list[1][:,start26:stop26]\n",
        "Non_Seizure.append(data26)\n",
        "\n",
        "\n",
        "\n",
        "\n",
        "\n",
        "\n",
        "\n",
        "\n",
        "\n",
        "\n"
      ],
      "metadata": {
        "id": "KJXhjusAoaZU"
      },
      "execution_count": null,
      "outputs": []
    },
    {
      "cell_type": "code",
      "source": [
        "start16_02_NS, stop16_02_NS = CH02_data_list[0].time_as_index([180, 200])\n",
        "data16_02_NS, time16_02_NS = CH02_data_list[0][:,start16_02_NS:stop16_02_NS]\n",
        "Non_Seizure.append(data16_02_NS)\n",
        "\n",
        "start19_02_NS, stop19_02_NS = CH02_data_list[1].time_as_index([3330, 3360])\n",
        "data19_02_NS, time19_02_NS = CH02_data_list[1][:,start19_02_NS:stop19_02_NS]\n",
        "Non_Seizure.append(data19_02_NS)\n",
        "\n",
        "start17_02_NS, stop17_02_NS = CH02_data_list[2].time_as_index([2940, 2960])\n",
        "data17_02_NS, time17_02_NS = CH02_data_list[2][:,start17_02_NS:stop17_02_NS]\n",
        "Non_Seizure.append(data17_02_NS)\n",
        "\n"
      ],
      "metadata": {
        "id": "vvE5yPgUrxYx"
      },
      "execution_count": null,
      "outputs": []
    },
    {
      "cell_type": "code",
      "source": [
        "# path06_01=\"/content/drive/MyDrive/estimation and detection data/chb06/\"+file_name06[0]\n",
        "# data06_01=mne.io.read_raw_edf(path06_01)\n",
        "# start, stop = data06_01.time_as_index([1724,1738])\n",
        "# data, time = data06_01[:,start:stop]\n",
        "# Seizure.append(data)\n",
        "\n",
        "startNS, stopNS = data06_01.time_as_index([1709,1723])\n",
        "dataNS, timeNS = data06_01[:,startNS:stopNS]\n",
        "Non_Seizure.append(dataNS)\n",
        "\n",
        "\n",
        "\n",
        "# start, stop = data06_01.time_as_index([7461,7476])\n",
        "# data, time = data06_01[:,start:stop]\n",
        "# Seizure.append(data)\n",
        "\n",
        "startNS, stopNS = data06_01.time_as_index([7445,7460])\n",
        "dataNS, timeNS = data06_01[:,startNS:stopNS]\n",
        "Non_Seizure.append(dataNS)\n",
        "\n",
        "# start, stop = data06_01.time_as_index([13525,13540 ])\n",
        "# data, time = data06_01[:,start:stop]\n",
        "# Seizure.append(data)\n",
        "\n",
        "startNS, stopNS = data06_01.time_as_index([13409,13424])\n",
        "dataNS, timeNS = data06_01[:,startNS:stopNS]\n",
        "Non_Seizure.append(dataNS)\n",
        "\n",
        "\n",
        "# start, stop = data06_04.time_as_index([327,347])\n",
        "# data, time = data06_04[:,start:stop]\n",
        "# Seizure.append(data)\n",
        "\n",
        "startNS, stopNS = data06_04.time_as_index([306,326])\n",
        "dataNS, timeNS = data06_04[:,startNS:stopNS]\n",
        "Non_Seizure.append(dataNS)\n",
        "\n",
        "# start, stop = data06_04.time_as_index([6211,6231])\n",
        "# data, time = data06_04[:,start:stop]\n",
        "# Seizure.append(data)\n",
        "\n",
        "startNS, stopNS = data06_04.time_as_index([6190,6210])\n",
        "dataNS, timeNS = data06_04[:,startNS:stopNS]\n",
        "Non_Seizure.append(dataNS)"
      ],
      "metadata": {
        "id": "o1oR4V9sx2Dt"
      },
      "execution_count": null,
      "outputs": []
    },
    {
      "cell_type": "code",
      "source": [
        "# start, stop = data06_09.time_as_index([12500,12516])\n",
        "# data, time = data06_09[:,start:stop]\n",
        "# Seizure.append(data)\n",
        "\n",
        "startNS, stopNS = data06_09.time_as_index([12483,12499])\n",
        "dataNS, timeNS = data06_09[:,startNS:stopNS]\n",
        "Non_Seizure.append(dataNS)"
      ],
      "metadata": {
        "id": "1S3HGw2u2bLe"
      },
      "execution_count": null,
      "outputs": []
    },
    {
      "cell_type": "code",
      "source": [
        "# start, stop = data06_10.time_as_index([10833,10845])\n",
        "# data, time = data06_10[:,start:stop]\n",
        "# Seizure.append(data)\n",
        "\n",
        "startNS, stopNS = data06_10.time_as_index([10820,10832])\n",
        "dataNS, timeNS = data06_10[:,startNS:stopNS]\n",
        "Non_Seizure.append(dataNS)"
      ],
      "metadata": {
        "id": "MexIezDa2cNb"
      },
      "execution_count": null,
      "outputs": []
    },
    {
      "cell_type": "code",
      "source": [
        "# start, stop = data06_13.time_as_index([506,519])\n",
        "# data, time = data06_13[:,start:stop]\n",
        "# Seizure.append(data)\n",
        "\n",
        "\n",
        "startNS, stopNS = data06_13.time_as_index([492,505])\n",
        "dataNS, timeNS = data06_13[:,startNS:stopNS]\n",
        "Non_Seizure.append(dataNS)\n"
      ],
      "metadata": {
        "id": "ufecX69f2kge"
      },
      "execution_count": null,
      "outputs": []
    },
    {
      "cell_type": "code",
      "source": [
        "# start, stop = data06_18.time_as_index([7799,7811])\n",
        "# data, time = data06_18[:,start:stop]\n",
        "# Seizure.append(data)\n",
        "\n",
        "startNS, stopNS = data06_18.time_as_index([7786,7798])\n",
        "dataNS, timeNS = data06_18[:,startNS:stopNS]\n",
        "Non_Seizure.append(dataNS)"
      ],
      "metadata": {
        "id": "FuQkcnGk2rt5"
      },
      "execution_count": null,
      "outputs": []
    },
    {
      "cell_type": "code",
      "source": [
        "# start, stop = data06_24.time_as_index([9387,9403])\n",
        "# data, time = data06_24[:,start:stop]\n",
        "# Seizure.append(data)\n",
        "\n",
        "startNS, stopNS = data06_24.time_as_index([9370,9386])\n",
        "dataNS, timeNS = data06_24[:,startNS:stopNS]\n",
        "Non_Seizure.append(dataNS)"
      ],
      "metadata": {
        "id": "ayDsQgph242-"
      },
      "execution_count": null,
      "outputs": []
    },
    {
      "cell_type": "code",
      "source": [
        "print(len(Non_Seizure))"
      ],
      "metadata": {
        "colab": {
          "base_uri": "https://localhost:8080/"
        },
        "id": "Pliex7Be6V31",
        "outputId": "81929028-3c55-4c06-86eb-8f89dbb4a0b0"
      },
      "execution_count": null,
      "outputs": [
        {
          "output_type": "stream",
          "name": "stdout",
          "text": [
            "20\n"
          ]
        }
      ]
    },
    {
      "cell_type": "code",
      "source": [
        "Non_Seizure_refAvg=[]\n",
        "for i in range(len(Non_Seizure)):\n",
        "  pns=change_referenceFT9(Non_Seizure[i])\n",
        "  lns=change_referenceAvg(pns)\n",
        "  Non_Seizure_refAvg.append(lns)\n",
        ""
      ],
      "metadata": {
        "id": "T1X3qhoes9EN"
      },
      "execution_count": null,
      "outputs": []
    },
    {
      "cell_type": "code",
      "source": [
        "Seizure_refAvg=[]\n",
        "for i in range(len(Seizure)):\n",
        "  pns=change_referenceFT9(Seizure[i])\n",
        "  lns=change_referenceAvg(pns)\n",
        "  Seizure_refAvg.append(lns)\n",
        "\n"
      ],
      "metadata": {
        "id": "nkknd7yahb4h"
      },
      "execution_count": null,
      "outputs": []
    },
    {
      "cell_type": "code",
      "source": [
        "print(len(Seizure_refAvg))"
      ],
      "metadata": {
        "colab": {
          "base_uri": "https://localhost:8080/"
        },
        "id": "h3AiTVcMaeGO",
        "outputId": "955f06a5-6d1d-4101-a376-50d873a2f6f5"
      },
      "execution_count": null,
      "outputs": [
        {
          "output_type": "stream",
          "name": "stdout",
          "text": [
            "20\n"
          ]
        }
      ]
    },
    {
      "cell_type": "code",
      "source": [
        "print(Seizure_refAvg[9].shape)\n",
        "print(Seizure[9].shape)"
      ],
      "metadata": {
        "colab": {
          "base_uri": "https://localhost:8080/"
        },
        "id": "wn72j7idirvU",
        "outputId": "0a2eaea7-bf4a-4728-df4a-7ebfbd6d78d1"
      },
      "execution_count": null,
      "outputs": [
        {
          "output_type": "stream",
          "name": "stdout",
          "text": [
            "(23, 20736)\n",
            "(23, 20736)\n"
          ]
        }
      ]
    },
    {
      "cell_type": "code",
      "source": [
        "Seizure_stacked_Avg=Seizure_refAvg[0]\n",
        "for i in range(1,len(Seizure_refAvg)):\n",
        "  Seizure_stacked_Avg=np.hstack((Seizure_stacked_Avg,Seizure_refAvg[i]))\n"
      ],
      "metadata": {
        "id": "LuNd7IdJaT-6"
      },
      "execution_count": null,
      "outputs": []
    },
    {
      "cell_type": "code",
      "source": [
        "print(Seizure_stacked_Avg.shape)"
      ],
      "metadata": {
        "colab": {
          "base_uri": "https://localhost:8080/"
        },
        "id": "6C5nZN0TZHyy",
        "outputId": "bbe6f713-3146-4323-a3a9-162542b59324"
      },
      "execution_count": null,
      "outputs": [
        {
          "output_type": "stream",
          "name": "stdout",
          "text": [
            "(23, 196352)\n"
          ]
        }
      ]
    },
    {
      "cell_type": "code",
      "source": [
        "Non_Seizure_stacked_Avg=Non_Seizure_refAvg[0]\n",
        "for i in range(1,len(Non_Seizure_refAvg)):\n",
        "  Non_Seizure_stacked_Avg=np.hstack((Non_Seizure_stacked_Avg,Non_Seizure_refAvg[i]))"
      ],
      "metadata": {
        "id": "g5Dun907tWLo"
      },
      "execution_count": null,
      "outputs": []
    },
    {
      "cell_type": "code",
      "source": [
        "print(Seizure_stacked_Avg.shape)"
      ],
      "metadata": {
        "colab": {
          "base_uri": "https://localhost:8080/"
        },
        "id": "vIxoRn58gO_0",
        "outputId": "78461507-6699-4d53-e39f-b6dcf0daafad"
      },
      "execution_count": null,
      "outputs": [
        {
          "output_type": "stream",
          "name": "stdout",
          "text": [
            "(23, 196352)\n"
          ]
        }
      ]
    },
    {
      "cell_type": "code",
      "source": [
        "Non_Seizure_flatten_Avg=Non_Seizure_stacked_Avg.flatten()"
      ],
      "metadata": {
        "id": "NB7gl_DPtiLm"
      },
      "execution_count": null,
      "outputs": []
    },
    {
      "cell_type": "code",
      "source": [
        "Seizure_flatten_Avg=Seizure_stacked_Avg.flatten()"
      ],
      "metadata": {
        "id": "783iBp34g_-T"
      },
      "execution_count": null,
      "outputs": []
    },
    {
      "cell_type": "code",
      "source": [
        "print(Seizure_flatten_Avg.shape)"
      ],
      "metadata": {
        "colab": {
          "base_uri": "https://localhost:8080/"
        },
        "id": "KwuNPSN5hM4p",
        "outputId": "2ae514b6-ff05-455b-9e02-e6ecaefd5b62"
      },
      "execution_count": null,
      "outputs": [
        {
          "output_type": "stream",
          "name": "stdout",
          "text": [
            "(4516096,)\n"
          ]
        }
      ]
    },
    {
      "cell_type": "code",
      "source": [
        "counts_S,bin_edges_S=np.histogram(Seizure_flatten_Avg,bins=10,density=True)\n",
        "print(counts_S)\n",
        "\n",
        "pdf_Avg_S=counts_S/np.sum(counts_S)"
      ],
      "metadata": {
        "id": "Vomxj2RYhR5U",
        "colab": {
          "base_uri": "https://localhost:8080/"
        },
        "outputId": "80d0e981-bf51-44da-a37c-41818a844e72"
      },
      "execution_count": null,
      "outputs": [
        {
          "output_type": "stream",
          "name": "stdout",
          "text": [
            "[5.64382984e-03 8.86887547e-03 1.84633862e-01 5.12621002e+00\n",
            " 2.98863366e+02 3.03938136e+03 2.89068902e+02 8.20451607e+00\n",
            " 2.68485048e-01 4.19255931e-02]\n"
          ]
        }
      ]
    },
    {
      "cell_type": "code",
      "source": [
        "counts_NS,bin_edges_NS=np.histogram(Non_Seizure_flatten_Avg,bins=10,density=True)\n",
        "\n",
        "pdf_Avg_NS=counts_NS/np.sum(counts_NS)"
      ],
      "metadata": {
        "id": "DaNDkVJYtp68"
      },
      "execution_count": null,
      "outputs": []
    },
    {
      "cell_type": "code",
      "source": [
        "xcenters_Avg_S = (bin_edges_S[:-1] + bin_edges_S[1:]) / 2"
      ],
      "metadata": {
        "id": "t_SOCHd2mfjy"
      },
      "execution_count": null,
      "outputs": []
    },
    {
      "cell_type": "code",
      "source": [
        "xcenters_Avg_NS = (bin_edges_NS[:-1] + bin_edges_NS[1:]) / 2"
      ],
      "metadata": {
        "id": "SdJT-TqkuNEk"
      },
      "execution_count": null,
      "outputs": []
    },
    {
      "cell_type": "code",
      "source": [
        "plt.title(\"plot of seizure and non-seizure data referenced at Avg\")\n",
        "plt.plot(xcenters_Avg_S,counts_S,label=\"SeizureAvg\",color=\"r\")\n",
        "plt.xlabel(\"x\")\n",
        "plt.ylabel(\"fx(x)\")\n",
        "plt.plot(xcenters_Avg_NS,counts_NS,label=\"Non-seizureAvg\",color=\"g\")\n",
        "plt.legend()\n",
        "plt.grid()\n",
        "plt.show()"
      ],
      "metadata": {
        "colab": {
          "base_uri": "https://localhost:8080/",
          "height": 472
        },
        "id": "vkyBojW-jpTL",
        "outputId": "26ddc3cc-3cb7-425c-8e13-2600960be135"
      },
      "execution_count": null,
      "outputs": [
        {
          "output_type": "display_data",
          "data": {
            "text/plain": [
              "<Figure size 640x480 with 1 Axes>"
            ],
            "image/png": "[encoded data removed]"
          },
          "metadata": {}
        }
      ]
    },
    {
      "cell_type": "code",
      "source": [
        "import numpy as np\n",
        "from scipy.signal import welch\n",
        "from sklearn.model_selection import train_test_split\n",
        "from sklearn.svm import SVC\n",
        "from sklearn.metrics import roc_curve, auc\n",
        "fs=256.0\n",
        "# Step 1: Calculate PSD for a given EEG data array\n",
        "def calculate_psd(eeg_data, fs):\n",
        "    f, psd = welch(eeg_data, fs=fs, axis=-1)\n",
        "    return f, psd\n",
        "\n",
        "# Step 2: Iterate over the EEG data list and calculate PSD for each channel\n",
        "psd_featuresS = []\n",
        "for patient_data in Seizure_refAvg:\n",
        "    patient_psd = []\n",
        "    for channel in range(patient_data.shape[0]):\n",
        "    #for channel_array in patient_data:\n",
        "        channel_data = patient_data[channel, :]\n",
        "        f, psd = calculate_psd(channel_data, fs)\n",
        "        patient_psd.append(psd)\n",
        "    psd_featuresS.append(patient_psd)\n",
        "\n",
        "\n",
        "psd_featuresNS = []\n",
        "for patient_data in Non_Seizure_refAvg:\n",
        "    patient_psd = []\n",
        "    for channel in range(patient_data.shape[0]):\n",
        "    #for channel_array in patient_data:\n",
        "        channel_data = patient_data[channel, :]\n",
        "        f, psd = calculate_psd(channel_data, fs)\n",
        "        patient_psd.append(psd)\n",
        "    psd_featuresNS.append(patient_psd)\n",
        "\n",
        "# Step 3: Convert psd_features to a numpy array\n",
        "psd_featuresS = np.array(psd_featuresS)\n",
        "\n",
        "# Step 4: Prepare data and labels for training\n",
        "psd_featuresNS = np.array(psd_featuresNS) # Non-seizure data list\n",
        "\n",
        "X = np.concatenate((psd_featuresS.reshape(psd_featuresS.shape[0], -1), psd_featuresNS.reshape(psd_featuresNS.shape[0], -1)))\n",
        "\n",
        "y = np.concatenate((np.ones(psd_featuresS.shape[0]), np.zeros((psd_featuresNS.shape[0]))))\n",
        "print(psd_featuresS.reshape(psd_featuresS.shape[0], -1).shape)\n",
        "# Step 5: Split the data into training and testing sets\n",
        "X_train, X_test, y_train, y_test = train_test_split(X, y, test_size=0.2, random_state=42)\n",
        "\n",
        "# Step 6: Create an SVM classifier\n",
        "clf = SVC()\n",
        "\n",
        "# Step 7: Train the classifier\n",
        "clf.fit(X_train, y_train)\n",
        "\n",
        "# Step 8: Evaluate the classifier\n",
        "accuracySVM = clf.score(X_test, y_test)\n"
      ],
      "metadata": {
        "colab": {
          "base_uri": "https://localhost:8080/"
        },
        "id": "XEnwtLkXga49",
        "outputId": "dfdb9f23-48e6-4368-eac8-62ede4e163e3"
      },
      "execution_count": null,
      "outputs": [
        {
          "output_type": "stream",
          "name": "stdout",
          "text": [
            "(20, 2967)\n"
          ]
        }
      ]
    },
    {
      "cell_type": "code",
      "source": [
        "print(accuracySVM)\n",
        "predictions=clf.predict(X_train)\n",
        "\n",
        "fpr, tpr, thresholds = roc_curve(y_train, predictions)\n",
        "roc_auc = auc(fpr, tpr)\n",
        "accuracy = np.mean(predictions == y_train)\n",
        "print(accuracy)\n",
        "\n",
        "# Step 11: Plot ROC curve\n",
        "plt.plot(fpr, tpr, color='b', label='ROC curve')\n",
        "plt.xlabel('False Positive Rate')\n",
        "plt.ylabel('True Positive Rate')\n",
        "plt.title('Receiver Operating Characteristic (ROC) Curve')\n",
        "plt.legend()\n",
        "plt.show()\n",
        "print(y_train)\n",
        "print(predictions)"
      ],
      "metadata": {
        "colab": {
          "base_uri": "https://localhost:8080/",
          "height": 582
        },
        "id": "3MJXnsVRitVf",
        "outputId": "2b7bf2c3-cb9c-416e-9f7e-112a5b9a5237"
      },
      "execution_count": null,
      "outputs": [
        {
          "output_type": "stream",
          "name": "stdout",
          "text": [
            "0.375\n",
            "0.78125\n"
          ]
        },
        {
          "output_type": "display_data",
          "data": {
            "text/plain": [
              "<Figure size 640x480 with 1 Axes>"
            ],
            "image/png": "[encoded data removed]"
          },
          "metadata": {}
        },
        {
          "output_type": "stream",
          "name": "stdout",
          "text": [
            "[0. 1. 0. 1. 1. 0. 0. 1. 1. 0. 1. 0. 1. 1. 1. 0. 0. 1. 0. 0. 1. 0. 0. 0.\n",
            " 1. 0. 1. 0. 1. 1. 0. 0.]\n",
            "[0. 1. 0. 1. 0. 0. 0. 0. 0. 0. 1. 0. 1. 0. 1. 0. 0. 1. 0. 0. 1. 0. 0. 0.\n",
            " 0. 0. 0. 0. 1. 0. 0. 0.]\n"
          ]
        }
      ]
    },
    {
      "cell_type": "code",
      "source": [
        "import numpy as np\n",
        "from scipy.signal import welch\n",
        "from sklearn.model_selection import train_test_split\n",
        "from sklearn.metrics import roc_curve, auc\n",
        "import matplotlib.pyplot as plt\n",
        "\n",
        "fs = 256.0\n",
        "\n",
        "\n",
        "\n",
        "\n",
        "psd_featuresS = []\n",
        "for patient_data in Seizure_refAvg:\n",
        "    patient_psd = []\n",
        "    for channel in range(patient_data.shape[0]):\n",
        "        channel_data = patient_data[channel, :]\n",
        "        f, psd = welch(channel_data, fs)\n",
        "        patient_psd.append(np.mean(psd))\n",
        "    psd_featuresS.append(patient_psd)\n",
        "\n",
        "psd_featuresNS = []\n",
        "for patient_data in Non_Seizure_refAvg:\n",
        "    patient_psd = []\n",
        "    for channel in range(patient_data.shape[0]):\n",
        "        channel_data = patient_data[channel, :]\n",
        "        f, psd = welch(channel_data, fs)\n",
        "        patient_psd.append(np.mean(psd))\n",
        "    psd_featuresNS.append(patient_psd)\n",
        "\n",
        "\n",
        "psd_featuresS = np.array(psd_featuresS)\n",
        "psd_featuresNS = np.array(psd_featuresNS)\n",
        "print(psd_featuresS.shape)\n",
        "\n",
        "X = np.concatenate((psd_featuresS.reshape(psd_featuresS.shape[0], -1), psd_featuresNS.reshape(psd_featuresNS.shape[0], -1)))\n",
        "y = np.concatenate((np.ones(psd_featuresS.shape[0]), np.zeros(psd_featuresNS.shape[0])))\n",
        "\n",
        "\n",
        "X_train, X_test, y_train, y_test = train_test_split(X, y, test_size=0.2, random_state=42)\n",
        "\n",
        "\n",
        "\n",
        "threshold = np.mean(X_train)\n",
        "print(threshold)\n",
        "\n",
        "predictions = []\n",
        "for i in range(X_train.shape[0]):\n",
        "\n",
        "\n",
        "    if np.mean(X_train[i,:])>threshold:\n",
        "        predictions.append(1)\n",
        "    else:\n",
        "        predictions.append(0)\n",
        "\n",
        "fpr, tpr, thresholds = roc_curve(y_train, predictions)\n",
        "roc_auc = auc(fpr, tpr)\n",
        "accuracy = np.mean(predictions == y_train)\n",
        "print(accuracy)\n",
        "\n",
        "\n",
        "plt.plot(fpr, tpr, color='b', label='ROC curve')\n",
        "plt.xlabel('False Positive Rate')\n",
        "plt.ylabel('True Positive Rate')\n",
        "plt.title('Receiver Operating Characteristic (ROC) Curve')\n",
        "plt.legend()\n",
        "plt.show()\n",
        "\n",
        "\n"
      ],
      "metadata": {
        "colab": {
          "base_uri": "https://localhost:8080/",
          "height": 527
        },
        "id": "Xfy7CQaowOyf",
        "outputId": "da2fbc15-bbed-4c7f-fdb9-6e140489d9eb"
      },
      "execution_count": null,
      "outputs": [
        {
          "output_type": "stream",
          "name": "stdout",
          "text": [
            "(20, 23)\n",
            "4.9339111496487205e-11\n",
            "0.6875\n"
          ]
        },
        {
          "output_type": "display_data",
          "data": {
            "text/plain": [
              "<Figure size 640x480 with 1 Axes>"
            ],
            "image/png": "[encoded data removed]"
          },
          "metadata": {}
        }
      ]
    },
    {
      "cell_type": "code",
      "source": [
        "\n",
        "predictionsTest = []\n",
        "for i in range(X_test.shape[0]):\n",
        "\n",
        "\n",
        "    if np.mean(X_test[i,:])<threshold:\n",
        "        predictionsTest.append(1)\n",
        "    else:\n",
        "        predictionsTest.append(0)\n",
        "\n",
        "fpr, tpr, thresholds = roc_curve(y_test, predictionsTest)\n",
        "roc_auc = auc(fpr, tpr)\n",
        "accuracy = np.mean(predictionsTest == y_test)\n",
        "print(accuracy)\n",
        "\n",
        "\n",
        "plt.plot(fpr, tpr, color='b', label='ROC curve')\n",
        "plt.xlabel('False Positive Rate')\n",
        "plt.ylabel('True Positive Rate')\n",
        "plt.title('Receiver Operating Characteristic (ROC) Curve')\n",
        "plt.legend()\n",
        "plt.show()\n",
        "print(y_test)\n",
        "print(predictionsTest )"
      ],
      "metadata": {
        "colab": {
          "base_uri": "https://localhost:8080/",
          "height": 527
        },
        "id": "5WCU6icp15Lt",
        "outputId": "ef3a5bb7-9025-445e-e2c0-f5bd15758f72"
      },
      "execution_count": null,
      "outputs": [
        {
          "output_type": "stream",
          "name": "stdout",
          "text": [
            "0.75\n"
          ]
        },
        {
          "output_type": "display_data",
          "data": {
            "text/plain": [
              "<Figure size 640x480 with 1 Axes>"
            ],
            "image/png": "[encoded data removed]"
          },
          "metadata": {}
        },
        {
          "output_type": "stream",
          "name": "stdout",
          "text": [
            "[1. 1. 1. 0. 1. 1. 0. 0.]\n",
            "[1, 1, 1, 1, 0, 1, 0, 0]\n"
          ]
        }
      ]
    },
    {
      "cell_type": "code",
      "source": [
        "psd_featuresS = []\n",
        "for patient_data in Seizure_refAvg:\n",
        "    patient_psd = []\n",
        "    for channel in range(patient_data.shape[0]):\n",
        "        channel_data = patient_data[channel, :]\n",
        "        f, psd = welch(channel_data, fs)\n",
        "        patient_psd.append(np.mean(psd))\n",
        "    psd_featuresS.append(patient_psd)\n",
        "\n",
        "psd_featuresNS = []\n",
        "for patient_data in Non_Seizure_refAvg:\n",
        "    patient_psd = []\n",
        "    for channel in range(patient_data.shape[0]):\n",
        "        channel_data = patient_data[channel, :]\n",
        "        f, psd = welch(channel_data, fs)\n",
        "        patient_psd.append(np.mean(psd))\n",
        "    psd_featuresNS.append(patient_psd)\n",
        "\n",
        "psd_featuresS=np.array(psd_featuresS)\n",
        "psd_featuresNS=np.array(psd_featuresNS)\n",
        "\n",
        "psd_featuresS_Flatten=psd_featuresS.flatten()\n",
        "psd_featuresNS_Flatten=psd_featuresNS.flatten()\n",
        "\n",
        "\n",
        "counts_S,bin_edges_S=np.histogram(psd_featuresS_Flatten,bins=10,density=True)\n",
        "counts_NS,bin_edges_NS=np.histogram(psd_featuresNS_Flatten,bins=10,density=True)\n",
        "\n",
        "xcentersS = (bin_edges_S[:-1] + bin_edges_S[1:]) / 2\n",
        "xcentersNS = (bin_edges_NS[:-1] + bin_edges_NS[1:]) / 2\n",
        "\n",
        "\n",
        "plt.title(\"plot of seizure and non-seizure data\")\n",
        "plt.plot(xcentersS,counts_S,label=\"Seizure\",color=\"r\")\n",
        "plt.xlabel(\"x\")\n",
        "plt.ylabel(\"fx(x)\")\n",
        "plt.plot(xcentersNS,counts_NS,label=\"Non-seizure\",color=\"g\")\n",
        "plt.legend()\n",
        "plt.grid()\n",
        "plt.show()"
      ],
      "metadata": {
        "colab": {
          "base_uri": "https://localhost:8080/",
          "height": 472
        },
        "id": "Z3dlzuqjPv8u",
        "outputId": "cfb3a6af-7b06-458a-814b-ed754902bd1a"
      },
      "execution_count": null,
      "outputs": [
        {
          "output_type": "display_data",
          "data": {
            "text/plain": [
              "<Figure size 640x480 with 1 Axes>"
            ],
            "image/png": "[encoded data removed]"
          },
          "metadata": {}
        }
      ]
    }
  ]
}